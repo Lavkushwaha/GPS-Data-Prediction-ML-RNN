{
 "cells": [
  {
   "cell_type": "code",
   "execution_count": 1,
   "metadata": {},
   "outputs": [],
   "source": [
    "# Machine Learning Model \n",
    "# LSTM\n",
    "# Train Data\n",
    "# x_train lat,lon,distance,speed,time diff\n",
    "# y_train pred_lat,pred_lon\n",
    "\n",
    "# !pip install pandas\n",
    "# !pip install scikit-learn\n",
    "# !pip install matplotlib\n",
    "\n",
    "import pandas as pd\n",
    "import matplotlib.pyplot as plt\n",
    "\n",
    "\n"
   ]
  },
  {
   "cell_type": "code",
   "execution_count": 2,
   "metadata": {},
   "outputs": [],
   "source": [
    "# for kaggle!!--------------------------------\n",
    "# import os\n",
    "# for dirname, _, filenames in os.walk('/kaggle/input'):\n",
    "#     for filename in filenames:\n",
    "#         print(os.path.join(dirname, filename))\n",
    "# end for kaggle!!------------------------------\n",
    "\n",
    "\n",
    "df = pd.read_csv('Dataset.csv')"
   ]
  },
  {
   "cell_type": "code",
   "execution_count": 3,
   "metadata": {},
   "outputs": [],
   "source": [
    "train_x = df[['Longitude','Latitude','Time_diff','Haversine_Distance','Calculated_Speed']]\n",
    "train_y=df[['Pred_Lat','Pred_Lon']]"
   ]
  },
  {
   "cell_type": "code",
   "execution_count": 4,
   "metadata": {},
   "outputs": [
    {
     "name": "stdout",
     "output_type": "stream",
     "text": [
      "        Longitude   Latitude  Time_diff  Haversine_Distance  Calculated_Speed\n",
      "19825 -105.434017  41.233209        8.0            3.209280          0.401160\n",
      "19826 -105.434054  41.233212        5.0            3.111959          0.622392\n",
      "19827 -105.434079  41.233234       27.0            3.217884          0.119181\n",
      "        Pred_Lat    Pred_Lon\n",
      "19825  41.233212 -105.434054\n",
      "19826  41.233234 -105.434079\n",
      "19827  41.233234 -105.434079\n"
     ]
    }
   ],
   "source": [
    "\n",
    "print(train_x.tail(3))\n",
    "\n",
    "\n",
    "print(train_y.tail(3))"
   ]
  },
  {
   "cell_type": "code",
   "execution_count": 11,
   "metadata": {},
   "outputs": [
    {
     "data": {
      "text/plain": [
       "(19828, 5)"
      ]
     },
     "execution_count": 11,
     "metadata": {},
     "output_type": "execute_result"
    }
   ],
   "source": [
    "import numpy as np\n",
    "# convert pandas dataframe to numpy array\n",
    "\n",
    "x_data = train_x.values\n",
    "x_data = np.array(x_data)\n",
    "# x_data = x_data.reshape(19828,5,1)\n",
    "x_data.shape"
   ]
  },
  {
   "cell_type": "code",
   "execution_count": 12,
   "metadata": {},
   "outputs": [
    {
     "data": {
      "text/plain": [
       "(19828, 2)"
      ]
     },
     "execution_count": 12,
     "metadata": {},
     "output_type": "execute_result"
    }
   ],
   "source": [
    "y_data = train_y.values\n",
    "y_data.shape"
   ]
  },
  {
   "cell_type": "code",
   "execution_count": 16,
   "metadata": {},
   "outputs": [
    {
     "name": "stdout",
     "output_type": "stream",
     "text": [
      "X_data shape : (19828, 5)\n",
      "new X_data shape : (19828, 5, 1)\n",
      "y_data shape : (19828, 2)\n",
      "new y_data shape : (19828, 2)\n"
     ]
    }
   ],
   "source": [
    "# Preporcessing Normalizing Valuse\n",
    "\n",
    "from sklearn.preprocessing import MinMaxScaler\n",
    "sc = MinMaxScaler(feature_range=(-1,1))\n",
    "# new_df= x_data[].reshape(x_data.shape[0],5)\n",
    "new_x_data = sc.fit_transform(x_data)\n",
    "new_x_data = new_x_data.reshape(19828,5,1)\n",
    "\n",
    "print('X_data shape :', x_data.shape)\n",
    "print('new X_data shape :', new_x_data.shape)\n",
    "\n",
    "\n",
    "\n",
    "new_y_data = sc.fit_transform(y_data)\n",
    "\n",
    "print('y_data shape :', y_data.shape)\n",
    "print('new y_data shape :', new_y_data.shape)\n"
   ]
  },
  {
   "cell_type": "code",
   "execution_count": 20,
   "metadata": {},
   "outputs": [],
   "source": [
    "# new_x_data.reshape(new_x_data.shape[0],5,1)\n"
   ]
  },
  {
   "cell_type": "code",
   "execution_count": null,
   "metadata": {},
   "outputs": [],
   "source": [
    "# for inversing transform\n",
    "\n",
    "\n",
    "new_df.reshape(19828,5)\n",
    "new_df = sc.inverse_transform(new_df)\n",
    "new_df.reshape(new_df.shape[0],5,1)\n"
   ]
  },
  {
   "cell_type": "code",
   "execution_count": 21,
   "metadata": {},
   "outputs": [],
   "source": [
    "import tensorflow as tf\n",
    "\n",
    "\n",
    "\n",
    "from tensorflow.python.keras.models import Sequential\n",
    "from tensorflow.python.keras.layers.recurrent import LSTM,RNN\n",
    "from tensorflow.python.keras.layers.core import Dense, Activation, Dropout\n",
    "\n",
    "from sklearn.preprocessing import MinMaxScaler\n",
    "from sklearn.metrics import mean_squared_error\n",
    "from sklearn.utils import shuffle\n",
    "from sklearn.model_selection import train_test_split\n",
    "\n",
    "\n"
   ]
  },
  {
   "cell_type": "code",
   "execution_count": 24,
   "metadata": {},
   "outputs": [],
   "source": [
    "x_train, x_test, y_train, y_test = train_test_split(new_x_data, new_y_data, test_size=0.33, random_state=42)\n",
    "\n"
   ]
  },
  {
   "cell_type": "code",
   "execution_count": 25,
   "metadata": {},
   "outputs": [
    {
     "name": "stdout",
     "output_type": "stream",
     "text": [
      "(13284, 5, 1)\n",
      "(13284, 2)\n",
      "(6544, 5, 1)\n",
      "(6544, 2)\n"
     ]
    }
   ],
   "source": [
    "print(x_train.shape)\n",
    "print(y_train.shape)\n",
    "print(x_test.shape)\n",
    "print(y_test.shape)\n"
   ]
  },
  {
   "cell_type": "code",
   "execution_count": 28,
   "metadata": {},
   "outputs": [
    {
     "name": "stdout",
     "output_type": "stream",
     "text": [
      "Model: \"sequential_2\"\n",
      "_________________________________________________________________\n",
      "Layer (type)                 Output Shape              Param #   \n",
      "=================================================================\n",
      "lstm_6 (LSTM)                (None, 5, 50)             10400     \n",
      "_________________________________________________________________\n",
      "dropout_6 (Dropout)          (None, 5, 50)             0         \n",
      "_________________________________________________________________\n",
      "lstm_7 (LSTM)                (None, 5, 100)            60400     \n",
      "_________________________________________________________________\n",
      "dropout_7 (Dropout)          (None, 5, 100)            0         \n",
      "_________________________________________________________________\n",
      "lstm_8 (LSTM)                (None, 50)                30200     \n",
      "_________________________________________________________________\n",
      "dropout_8 (Dropout)          (None, 50)                0         \n",
      "_________________________________________________________________\n",
      "dense_2 (Dense)              (None, 2)                 102       \n",
      "=================================================================\n",
      "Total params: 101,102\n",
      "Trainable params: 101,102\n",
      "Non-trainable params: 0\n",
      "_________________________________________________________________\n"
     ]
    }
   ],
   "source": [
    "model = Sequential()\n",
    "\n",
    "# first layer\n",
    "model.add(LSTM(units=50, batch_input_shape=(None,5,1),return_sequences=True))\n",
    "model.add(Dropout(0.2))\n",
    "\n",
    "# second layer\n",
    "# model.add(Dense(128, 1))\n",
    "model.add(LSTM(units=100,return_sequences=True))\n",
    "model.add(Dropout(0.2))\n",
    "\n",
    "# third layer\n",
    "model.add(LSTM(units=50,return_sequences=False))\n",
    "model.add(Dropout(0.2))\n",
    "\n",
    "# fourth dense layer\n",
    "model.add(Dense(units=2))\n",
    "\n",
    "\n",
    "model.compile(loss='mean_absolute_error',optimizer='adam',metrics=['accuracy'])\n",
    "model.summary()\n",
    "          \n",
    "\n",
    "\n"
   ]
  },
  {
   "cell_type": "code",
   "execution_count": 29,
   "metadata": {},
   "outputs": [
    {
     "name": "stdout",
     "output_type": "stream",
     "text": [
      "Train on 13284 samples, validate on 6544 samples\n",
      "Epoch 1/50\n",
      "13284/13284 [==============================] - 18s 1ms/sample - loss: 0.1606 - accuracy: 0.8656 - val_loss: 0.0634 - val_accuracy: 0.9418\n",
      "Epoch 2/50\n",
      "13284/13284 [==============================] - 8s 637us/sample - loss: 0.0834 - accuracy: 0.9452 - val_loss: 0.0418 - val_accuracy: 0.9690\n",
      "Epoch 3/50\n",
      "13284/13284 [==============================] - 9s 658us/sample - loss: 0.0741 - accuracy: 0.9556 - val_loss: 0.0551 - val_accuracy: 0.9623\n",
      "Epoch 4/50\n",
      "13284/13284 [==============================] - 8s 626us/sample - loss: 0.0681 - accuracy: 0.9611 - val_loss: 0.0369 - val_accuracy: 0.9804\n",
      "Epoch 5/50\n",
      "13284/13284 [==============================] - 9s 664us/sample - loss: 0.0646 - accuracy: 0.9663 - val_loss: 0.0274 - val_accuracy: 0.9840\n",
      "Epoch 6/50\n",
      "13284/13284 [==============================] - 8s 628us/sample - loss: 0.0605 - accuracy: 0.9694 - val_loss: 0.0277 - val_accuracy: 0.9759\n",
      "Epoch 7/50\n",
      "13284/13284 [==============================] - 9s 680us/sample - loss: 0.0603 - accuracy: 0.9725 - val_loss: 0.0204 - val_accuracy: 0.9921\n",
      "Epoch 8/50\n",
      "13284/13284 [==============================] - 8s 638us/sample - loss: 0.0581 - accuracy: 0.9761 - val_loss: 0.0253 - val_accuracy: 0.9913\n",
      "Epoch 9/50\n",
      "13284/13284 [==============================] - 11s 810us/sample - loss: 0.0563 - accuracy: 0.9764 - val_loss: 0.0329 - val_accuracy: 0.9873\n",
      "Epoch 10/50\n",
      "13284/13284 [==============================] - 10s 731us/sample - loss: 0.0557 - accuracy: 0.9778 - val_loss: 0.0244 - val_accuracy: 0.9884\n",
      "Epoch 11/50\n",
      "13284/13284 [==============================] - 10s 716us/sample - loss: 0.0549 - accuracy: 0.9773 - val_loss: 0.0185 - val_accuracy: 0.9892\n",
      "Epoch 12/50\n",
      "13284/13284 [==============================] - 13s 978us/sample - loss: 0.0540 - accuracy: 0.9760 - val_loss: 0.0340 - val_accuracy: 0.9830\n",
      "Epoch 13/50\n",
      "13284/13284 [==============================] - 12s 920us/sample - loss: 0.0527 - accuracy: 0.9807 - val_loss: 0.0215 - val_accuracy: 0.9899\n",
      "Epoch 14/50\n",
      "13284/13284 [==============================] - 14s 1ms/sample - loss: 0.0517 - accuracy: 0.9781 - val_loss: 0.0244 - val_accuracy: 0.9902\n",
      "Epoch 15/50\n",
      "13284/13284 [==============================] - 14s 1ms/sample - loss: 0.0511 - accuracy: 0.9794 - val_loss: 0.0172 - val_accuracy: 0.9933loss: 0.0512 - accuracy: \n",
      "Epoch 16/50\n",
      "13284/13284 [==============================] - 13s 1ms/sample - loss: 0.0509 - accuracy: 0.9798 - val_loss: 0.0157 - val_accuracy: 0.9960\n",
      "Epoch 17/50\n",
      "13284/13284 [==============================] - 11s 805us/sample - loss: 0.0510 - accuracy: 0.9815 - val_loss: 0.0174 - val_accuracy: 0.9890\n",
      "Epoch 18/50\n",
      "13284/13284 [==============================] - 13s 957us/sample - loss: 0.0505 - accuracy: 0.9798 - val_loss: 0.0189 - val_accuracy: 0.9895\n",
      "Epoch 19/50\n",
      "13284/13284 [==============================] - 12s 925us/sample - loss: 0.0498 - accuracy: 0.9782 - val_loss: 0.0229 - val_accuracy: 0.9919\n",
      "Epoch 20/50\n",
      "13284/13284 [==============================] - 10s 766us/sample - loss: 0.0498 - accuracy: 0.9788 - val_loss: 0.0114 - val_accuracy: 0.9940\n",
      "Epoch 21/50\n",
      "13284/13284 [==============================] - 10s 789us/sample - loss: 0.0487 - accuracy: 0.9810 - val_loss: 0.0254 - val_accuracy: 0.9879\n",
      "Epoch 22/50\n",
      "13284/13284 [==============================] - 14s 1ms/sample - loss: 0.0491 - accuracy: 0.9809 - val_loss: 0.0192 - val_accuracy: 0.9919\n",
      "Epoch 23/50\n",
      "13284/13284 [==============================] - 13s 1ms/sample - loss: 0.0487 - accuracy: 0.9804 - val_loss: 0.0171 - val_accuracy: 0.9930\n",
      "Epoch 24/50\n",
      "13284/13284 [==============================] - 13s 965us/sample - loss: 0.0486 - accuracy: 0.9798 - val_loss: 0.0334 - val_accuracy: 0.9815\n",
      "Epoch 25/50\n",
      "13284/13284 [==============================] - 10s 779us/sample - loss: 0.0483 - accuracy: 0.9811 - val_loss: 0.0141 - val_accuracy: 0.9957\n",
      "Epoch 26/50\n",
      "13284/13284 [==============================] - 13s 999us/sample - loss: 0.0477 - accuracy: 0.9826 - val_loss: 0.0136 - val_accuracy: 0.9960\n",
      "Epoch 27/50\n",
      "13284/13284 [==============================] - 11s 865us/sample - loss: 0.0479 - accuracy: 0.9792 - val_loss: 0.0161 - val_accuracy: 0.9969\n",
      "Epoch 28/50\n",
      "13284/13284 [==============================] - 10s 753us/sample - loss: 0.0469 - accuracy: 0.9813 - val_loss: 0.0243 - val_accuracy: 0.9899\n",
      "Epoch 29/50\n",
      "13284/13284 [==============================] - 13s 961us/sample - loss: 0.0475 - accuracy: 0.9827 - val_loss: 0.0261 - val_accuracy: 0.9893\n",
      "Epoch 30/50\n",
      "13284/13284 [==============================] - 13s 971us/sample - loss: 0.0474 - accuracy: 0.9798 - val_loss: 0.0149 - val_accuracy: 0.9924\n",
      "Epoch 31/50\n",
      "13284/13284 [==============================] - 13s 969us/sample - loss: 0.0471 - accuracy: 0.9811 - val_loss: 0.0120 - val_accuracy: 0.9950\n",
      "Epoch 32/50\n",
      "13284/13284 [==============================] - 15s 1ms/sample - loss: 0.0474 - accuracy: 0.9788 - val_loss: 0.0206 - val_accuracy: 0.9962\n",
      "Epoch 33/50\n",
      "13284/13284 [==============================] - 13s 971us/sample - loss: 0.0470 - accuracy: 0.9813 - val_loss: 0.0129 - val_accuracy: 0.9974\n",
      "Epoch 34/50\n",
      "13284/13284 [==============================] - 12s 913us/sample - loss: 0.0462 - accuracy: 0.9813 - val_loss: 0.0157 - val_accuracy: 0.9905\n",
      "Epoch 35/50\n",
      "13284/13284 [==============================] - 13s 999us/sample - loss: 0.0463 - accuracy: 0.9798 - val_loss: 0.0189 - val_accuracy: 0.9945\n",
      "Epoch 36/50\n",
      "13284/13284 [==============================] - 12s 903us/sample - loss: 0.0459 - accuracy: 0.9818 - val_loss: 0.0219 - val_accuracy: 0.9969\n",
      "Epoch 37/50\n",
      "13284/13284 [==============================] - 11s 841us/sample - loss: 0.0461 - accuracy: 0.9811 - val_loss: 0.0155 - val_accuracy: 0.9956\n",
      "Epoch 38/50\n",
      "13284/13284 [==============================] - 11s 805us/sample - loss: 0.0458 - accuracy: 0.9820 - val_loss: 0.0112 - val_accuracy: 0.9922\n",
      "Epoch 39/50\n",
      "13284/13284 [==============================] - 10s 788us/sample - loss: 0.0456 - accuracy: 0.9816 - val_loss: 0.0157 - val_accuracy: 0.9922\n",
      "Epoch 40/50\n",
      "13284/13284 [==============================] - 11s 796us/sample - loss: 0.0457 - accuracy: 0.9813 - val_loss: 0.0151 - val_accuracy: 0.9919\n",
      "Epoch 41/50\n",
      "13284/13284 [==============================] - 11s 805us/sample - loss: 0.0460 - accuracy: 0.9811 - val_loss: 0.0140 - val_accuracy: 0.9885\n",
      "Epoch 42/50\n",
      "13284/13284 [==============================] - 11s 831us/sample - loss: 0.0455 - accuracy: 0.9812 - val_loss: 0.0192 - val_accuracy: 0.9836\n",
      "Epoch 43/50\n",
      "13284/13284 [==============================] - 11s 797us/sample - loss: 0.0456 - accuracy: 0.9807 - val_loss: 0.0173 - val_accuracy: 0.9942\n",
      "Epoch 44/50\n",
      "13284/13284 [==============================] - 14s 1ms/sample - loss: 0.0448 - accuracy: 0.9817 - val_loss: 0.0248 - val_accuracy: 0.9931\n",
      "Epoch 45/50\n",
      "13284/13284 [==============================] - 10s 780us/sample - loss: 0.0452 - accuracy: 0.9821 - val_loss: 0.0137 - val_accuracy: 0.9945\n",
      "Epoch 46/50\n",
      "13284/13284 [==============================] - 10s 788us/sample - loss: 0.0449 - accuracy: 0.9825 - val_loss: 0.0157 - val_accuracy: 0.9960\n",
      "Epoch 47/50\n",
      "13284/13284 [==============================] - 10s 736us/sample - loss: 0.0453 - accuracy: 0.9808 - val_loss: 0.0181 - val_accuracy: 0.9879\n",
      "Epoch 48/50\n",
      "13284/13284 [==============================] - 10s 771us/sample - loss: 0.0443 - accuracy: 0.9822 - val_loss: 0.0196 - val_accuracy: 0.9965\n",
      "Epoch 49/50\n",
      "13284/13284 [==============================] - 12s 880us/sample - loss: 0.0449 - accuracy: 0.9799 - val_loss: 0.0130 - val_accuracy: 0.9956\n",
      "Epoch 50/50\n",
      "13284/13284 [==============================] - 10s 750us/sample - loss: 0.0446 - accuracy: 0.9825 - val_loss: 0.0238 - val_accuracy: 0.9899\n"
     ]
    }
   ],
   "source": [
    "history = model.fit(x_train,y_train,epochs=50,validation_data=(x_test,y_test))"
   ]
  },
  {
   "cell_type": "code",
   "execution_count": 43,
   "metadata": {},
   "outputs": [],
   "source": [
    "model.save('C:/Users/User-0005/Desktop/ML/GPS_pr/model/gps/model.h5')\n",
    "# model.save(args[\"model\"])"
   ]
  },
  {
   "cell_type": "code",
   "execution_count": 46,
   "metadata": {},
   "outputs": [],
   "source": [
    "from tensorflow.python.keras.models import load_model\n",
    "model1 = load_model('model/gps/model.h5')"
   ]
  },
  {
   "cell_type": "code",
   "execution_count": 49,
   "metadata": {},
   "outputs": [
    {
     "data": {
      "text/plain": [
       "array([[ 0.2449942 , -0.6566762 ],\n",
       "       [-0.28479466, -0.1603694 ],\n",
       "       [-0.8354998 ,  0.3866222 ],\n",
       "       ...,\n",
       "       [ 0.3392489 ,  0.42517418],\n",
       "       [ 0.38600916, -0.79164934],\n",
       "       [ 0.4464331 ,  0.890225  ]], dtype=float32)"
      ]
     },
     "execution_count": 49,
     "metadata": {},
     "output_type": "execute_result"
    }
   ],
   "source": [
    "result = model1.predict(x_test)\n",
    "result"
   ]
  },
  {
   "cell_type": "code",
   "execution_count": 50,
   "metadata": {},
   "outputs": [
    {
     "data": {
      "text/plain": [
       "array([[  41.252075, -105.42498 ],\n",
       "       [  41.218777, -105.38482 ],\n",
       "       [  41.184166, -105.34056 ],\n",
       "       ...,\n",
       "       [  41.258003, -105.33744 ],\n",
       "       [  41.26094 , -105.435905],\n",
       "       [  41.26474 , -105.29982 ]], dtype=float32)"
      ]
     },
     "execution_count": 50,
     "metadata": {},
     "output_type": "execute_result"
    }
   ],
   "source": [
    "\n",
    "res_df = sc.inverse_transform(result)\n",
    "# res_df.reshape(new_df.shape[0],5,1)\n",
    "res_df\n"
   ]
  },
  {
   "cell_type": "code",
   "execution_count": 52,
   "metadata": {},
   "outputs": [
    {
     "name": "stdout",
     "output_type": "stream",
     "text": [
      "[[  41.25146  -105.426549]\n",
      " [  41.216984 -105.38606 ]\n",
      " [  41.180747 -105.338721]\n",
      " ...\n",
      " [  41.256388 -105.334362]\n",
      " [  41.261073 -105.43826 ]\n",
      " [  41.261798 -105.295944]]\n"
     ]
    }
   ],
   "source": [
    "y_test_actual=sc.inverse_transform(y_test)\n",
    "print(y_test_actual)\n",
    "# for i in range(len(result)):\n",
    "#     plt.scatter(result[0][i],result[1][i],c='r')\n",
    "#     plt.scatter(y_test[0][i],y_test[1][i],c='g')\n",
    "\n",
    "# plt.show()\n",
    "\n"
   ]
  },
  {
   "cell_type": "code",
   "execution_count": null,
   "metadata": {},
   "outputs": [],
   "source": []
  },
  {
   "cell_type": "code",
   "execution_count": 53,
   "metadata": {},
   "outputs": [
    {
     "data": {
      "image/png": "[encoded data removed]",
      "text/plain": [
       "<Figure size 432x288 with 1 Axes>"
      ]
     },
     "metadata": {
      "needs_background": "light"
     },
     "output_type": "display_data"
    }
   ],
   "source": [
    "# Plotting actual points with GPS points\n",
    "\n",
    "predicted_df = pd.DataFrame(data=res_df[0:,0:],index=[i for i in range(res_df.shape[0])],columns=['f'+str(i) for i in range(res_df.shape[1])])\n",
    "\n",
    "actual_df = pd.DataFrame(data=y_test_actual[0:,0:],index=[i for i in range(y_test_actual.shape[0])],columns=['f'+str(i) for i in range(y_test_actual.shape[1])])\n",
    "\n",
    "# for i in range(len(res_df)):\n",
    "# #   print(i)\n",
    "plt.scatter(x=predicted_df['f0'],y=predicted_df['f1'],c='r')\n",
    "plt.scatter(x=actual_df['f0'],y=actual_df['f1'],c='g')\n",
    "\n",
    "plt.show()"
   ]
  },
  {
   "cell_type": "code",
   "execution_count": null,
   "metadata": {},
   "outputs": [],
   "source": []
  },
  {
   "cell_type": "code",
   "execution_count": 54,
   "metadata": {},
   "outputs": [
    {
     "data": {
      "image/png": "[encoded data removed]",
      "text/plain": [
       "<Figure size 432x288 with 1 Axes>"
      ]
     },
     "metadata": {
      "needs_background": "light"
     },
     "output_type": "display_data"
    }
   ],
   "source": [
    "plt.plot(history.history['loss'])\n",
    "plt.show()"
   ]
  },
  {
   "cell_type": "code",
   "execution_count": null,
   "metadata": {},
   "outputs": [],
   "source": [
    "# import pyproj\n",
    "\n",
    "# # Example position data, should be somewhere in Germany\n",
    "# x = 784413.4586438217\n",
    "# y = 5735894.791428658\n",
    "# z = -2667746.972596679\n",
    "\n",
    "\n",
    "# # ecef = pyproj.Proj(proj='geocent', ellps='WGS84', datum='WGS84')\n",
    "# # lla = pyproj.Proj(proj='latlong', ellps='WGS84', datum='WGS84')\n",
    "# # lon, lat, alt = pyproj.transform(ecef, lla, x, y, z, radians=True)\n",
    "\n",
    "# # print(lat, lon, alt)\n",
    "\n",
    "# lon, lat, alt = pyproj.transform(ecef, lla, x, y, z, radians=False)\n",
    "\n",
    "# print(lat, lon, alt)\n",
    "\n",
    "# lon, lat, alt = -24.887220848803036, 82.2128095673836, 0\n",
    "\n",
    "# x,y,z = pyproj.transform(lla,ecef,lat,lon,alt)\n",
    "# print(x,y,z)"
   ]
  },
  {
   "cell_type": "code",
   "execution_count": null,
   "metadata": {},
   "outputs": [],
   "source": [
    "# import pyproj\n",
    "\n",
    "# def convert_to_ecef(lat,lon,alt=0):\n",
    "#     return pyproj.transform(lla,ecef,lat,lon,alt)\n",
    "\n",
    "# def convert_to_lla(x,y,z):\n",
    "#     return pyproj.transform(ecef, lla, x, y, z, radians=False)"
   ]
  },
  {
   "cell_type": "code",
   "execution_count": null,
   "metadata": {},
   "outputs": [],
   "source": []
  },
  {
   "cell_type": "code",
   "execution_count": null,
   "metadata": {},
   "outputs": [],
   "source": []
  }
 ],
 "metadata": {
  "kernelspec": {
   "display_name": "Python 3",
   "language": "python",
   "name": "python3"
  },
  "language_info": {
   "codemirror_mode": {
    "name": "ipython",
    "version": 3
   },
   "file_extension": ".py",
   "mimetype": "text/x-python",
   "name": "python",
   "nbconvert_exporter": "python",
   "pygments_lexer": "ipython3",
   "version": "3.7.3"
  }
 },
 "nbformat": 4,
 "nbformat_minor": 2
}
