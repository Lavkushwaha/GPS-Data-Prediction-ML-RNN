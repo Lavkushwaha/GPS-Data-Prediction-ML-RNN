{
 "cells": [
  {
   "cell_type": "code",
   "execution_count": 2,
   "metadata": {},
   "outputs": [],
   "source": [
    "# Machine Learning Model \n",
    "# LSTM\n",
    "# Train Data\n",
    "# x_train lat,lon,distance,speed,time diff\n",
    "# y_train pred_lat,pred_lon\n",
    "\n",
    "# !pip install pandas\n",
    "# !pip install scikit-learn\n",
    "# !pip install matplotlib\n",
    "\n",
    "import pandas as pd\n",
    "import matplotlib.pyplot as plt\n",
    "\n",
    "\n"
   ]
  },
  {
   "cell_type": "code",
   "execution_count": 3,
   "metadata": {},
   "outputs": [],
   "source": [
    "# for kaggle!!--------------------------------\n",
    "# import os\n",
    "# for dirname, _, filenames in os.walk('/kaggle/input'):\n",
    "#     for filename in filenames:\n",
    "#         print(os.path.join(dirname, filename))\n",
    "# end for kaggle!!------------------------------\n",
    "\n",
    "\n",
    "df = pd.read_csv('Separate_Testing.csv')"
   ]
  },
  {
   "cell_type": "code",
   "execution_count": 4,
   "metadata": {},
   "outputs": [],
   "source": [
    "train_x = df[['Longitude','Latitude','Time_diff','Haversine_Distance','Calculated_Speed']]\n",
    "train_y=df[['Pred_Lat','Pred_Lon']]"
   ]
  },
  {
   "cell_type": "code",
   "execution_count": 5,
   "metadata": {},
   "outputs": [
    {
     "name": "stdout",
     "output_type": "stream",
     "text": [
      "       Longitude   Latitude  Time_diff  Haversine_Distance  Calculated_Speed\n",
      "3118 -106.374556  38.998143       13.0            3.472742          0.267134\n",
      "3119 -106.374549  38.998161       12.0            2.090927          0.174244\n",
      "3120 -106.374429  38.998186       11.0           10.736179          0.976016\n",
      "       Pred_Lat    Pred_Lon\n",
      "3118  38.998161 -106.374549\n",
      "3119  38.998186 -106.374429\n",
      "3120  38.998186 -106.374429\n"
     ]
    }
   ],
   "source": [
    "\n",
    "print(train_x.tail(3))\n",
    "\n",
    "\n",
    "print(train_y.tail(3))"
   ]
  },
  {
   "cell_type": "code",
   "execution_count": 6,
   "metadata": {},
   "outputs": [
    {
     "data": {
      "text/plain": [
       "(3121, 5)"
      ]
     },
     "execution_count": 6,
     "metadata": {},
     "output_type": "execute_result"
    }
   ],
   "source": [
    "import numpy as np\n",
    "# convert pandas dataframe to numpy array\n",
    "\n",
    "x_data = train_x.values\n",
    "x_data = np.array(x_data)\n",
    "# x_data = x_data.reshape(19828,5,1)\n",
    "x_data.shape"
   ]
  },
  {
   "cell_type": "code",
   "execution_count": 7,
   "metadata": {},
   "outputs": [
    {
     "data": {
      "text/plain": [
       "(3121, 2)"
      ]
     },
     "execution_count": 7,
     "metadata": {},
     "output_type": "execute_result"
    }
   ],
   "source": [
    "y_data = train_y.values\n",
    "y_data.shape"
   ]
  },
  {
   "cell_type": "code",
   "execution_count": null,
   "metadata": {},
   "outputs": [],
   "source": [
    "# Preporcessing Normalizing Valuse\n",
    "\n",
    "from sklearn.preprocessing import MinMaxScaler\n",
    "\n",
    "# min max scale to 0 to 1 if we are using relu function\n",
    "\n",
    "sc = MinMaxScaler(feature_range=(-1,1))\n",
    "\n",
    "# for training i have used min max transform\n",
    "new_x_data = sc.fit_transform(x_data)\n",
    "\n",
    "\n",
    "new_x_data = new_x_data.reshape(new_x_data.shape[0],5,1)\n",
    "\n",
    "print('X_data shape :', x_data.shape)\n",
    "print('new X_data shape :', new_x_data.shape)\n",
    "\n",
    "\n",
    "\n",
    "new_y_data = sc.fit_transform(y_data)\n",
    "# new_y_data = y_data\n",
    "\n",
    "\n",
    "print('y_data shape :', y_data.shape)\n",
    "print('new y_data shape :', new_y_data.shape)\n"
   ]
  },
  {
   "cell_type": "code",
   "execution_count": null,
   "metadata": {},
   "outputs": [],
   "source": [
    "# new_x_data.reshape(new_x_data.shape[0],5,1)\n"
   ]
  },
  {
   "cell_type": "code",
   "execution_count": null,
   "metadata": {},
   "outputs": [],
   "source": [
    "# for inversing transform\n",
    "\n",
    "\n",
    "# new_df.reshape(19828,5)\n",
    "# new_df = sc.inverse_transform(new_df)\n",
    "# new_df.reshape(new_df.shape[0],5,1)\n"
   ]
  },
  {
   "cell_type": "code",
   "execution_count": null,
   "metadata": {},
   "outputs": [],
   "source": [
    "import tensorflow as tf\n",
    "\n",
    "\n",
    "\n",
    "# from tensorflow.python.keras.models import Sequential\n",
    "# from tensorflow.python.keras.layers.recurrent import LSTM,RNN\n",
    "# from tensorflow.python.keras.layers.core import Dense, Activation, Dropout\n",
    "\n",
    "# from sklearn.preprocessing import MinMaxScaler\n",
    "# from sklearn.metrics import mean_squared_error\n",
    "# from sklearn.utils import shuffle\n",
    "# from sklearn.model_selection import train_test_split\n",
    "\n",
    "\n"
   ]
  },
  {
   "cell_type": "code",
   "execution_count": null,
   "metadata": {},
   "outputs": [],
   "source": [
    "# x_train, x_test, y_train, y_test = train_test_split(new_x_data, new_y_data, test_size=0.33, random_state=42)\n",
    "\n"
   ]
  },
  {
   "cell_type": "code",
   "execution_count": null,
   "metadata": {},
   "outputs": [],
   "source": [
    "# print(x_train.shape)\n",
    "# print(y_train.shape)\n",
    "# print(x_test.shape)\n",
    "# print(y_test.shape)\n"
   ]
  },
  {
   "cell_type": "code",
   "execution_count": null,
   "metadata": {},
   "outputs": [],
   "source": [
    "# model = Sequential()\n",
    "\n",
    "# # first layer\n",
    "# model.add(LSTM(units=50, batch_input_shape=(None,5,1),return_sequences=True))\n",
    "# model.add(Dropout(0.2))\n",
    "\n",
    "# # second layer\n",
    "# # model.add(Dense(128, 1))\n",
    "# model.add(LSTM(units=100,return_sequences=True))\n",
    "# model.add(Dropout(0.2))\n",
    "\n",
    "# # third layer\n",
    "# model.add(LSTM(units=50,return_sequences=False))\n",
    "# model.add(Dropout(0.2))\n",
    "\n",
    "# # fourth dense layer\n",
    "# model.add(Dense(units=2))\n",
    "\n",
    "\n",
    "# model.compile(loss='mean_absolute_error',optimizer='adam',metrics=['accuracy'])\n",
    "# model.summary()\n",
    "          \n",
    "\n",
    "\n"
   ]
  },
  {
   "cell_type": "code",
   "execution_count": null,
   "metadata": {},
   "outputs": [],
   "source": [
    "# history = model.fit(x_train,y_train,epochs=50,validation_data=(x_test,y_test))"
   ]
  },
  {
   "cell_type": "code",
   "execution_count": null,
   "metadata": {},
   "outputs": [],
   "source": [
    "# model.save('C:/Users/User-0005/Desktop/ML/GPS_pr/model/gps/model.h5')\n",
    "# model.save(args[\"model\"])"
   ]
  },
  {
   "cell_type": "code",
   "execution_count": null,
   "metadata": {},
   "outputs": [],
   "source": [
    "from tensorflow.python.keras.models import load_model\n",
    "model1 = load_model('colab_model_relu_100ep_up.h5')"
   ]
  },
  {
   "cell_type": "code",
   "execution_count": null,
   "metadata": {},
   "outputs": [],
   "source": [
    "# new_x_data\n",
    "result = model1.predict(new_x_data)\n",
    "result"
   ]
  },
  {
   "cell_type": "code",
   "execution_count": null,
   "metadata": {},
   "outputs": [],
   "source": [
    "\n",
    "res_df = sc.inverse_transform(result)\n",
    "# res_df.reshape(new_df.shape[0],5,1)\n",
    "res_df\n"
   ]
  },
  {
   "cell_type": "code",
   "execution_count": null,
   "metadata": {},
   "outputs": [],
   "source": [
    "y_test_actual=sc.inverse_transform(new_y_data)\n",
    "print(y_test_actual)\n",
    "# for i in range(len(result)):\n",
    "#     plt.scatter(result[0][i],result[1][i],c='r')\n",
    "#     plt.scatter(y_test[0][i],y_test[1][i],c='g')\n",
    "\n",
    "# plt.show()\n",
    "\n"
   ]
  },
  {
   "cell_type": "code",
   "execution_count": null,
   "metadata": {},
   "outputs": [],
   "source": []
  },
  {
   "cell_type": "code",
   "execution_count": null,
   "metadata": {},
   "outputs": [],
   "source": [
    "# Plotting actual points with GPS points\n",
    "\n",
    "predicted_df = pd.DataFrame(data=res_df[0:,0:],index=[i for i in range(res_df.shape[0])],columns=['f'+str(i) for i in range(res_df.shape[1])])\n",
    "\n",
    "actual_df = pd.DataFrame(data=y_test_actual[0:,0:],index=[i for i in range(y_test_actual.shape[0])],columns=['f'+str(i) for i in range(y_test_actual.shape[1])])\n",
    "\n",
    "# for i in range(len(res_df)):\n",
    "# #   print(i)\n",
    "plt.scatter(x=predicted_df['f0'],y=predicted_df['f1'],c='r',s=0.1,alpha=0.5)\n",
    "plt.scatter(x=actual_df['f0'],y=actual_df['f1'],c='g',s=0.1,alpha=0.5)\n",
    "\n",
    "plt.show()"
   ]
  },
  {
   "cell_type": "code",
   "execution_count": null,
   "metadata": {
    "scrolled": true
   },
   "outputs": [],
   "source": [
    "\n"
   ]
  },
  {
   "cell_type": "code",
   "execution_count": null,
   "metadata": {},
   "outputs": [],
   "source": [
    "# plt.plot(history.history['loss'])\n",
    "# plt.show()"
   ]
  },
  {
   "cell_type": "code",
   "execution_count": null,
   "metadata": {},
   "outputs": [],
   "source": [
    "# import pyproj\n",
    "\n",
    "# # Example position data, should be somewhere in Germany\n",
    "# x = 784413.4586438217\n",
    "# y = 5735894.791428658\n",
    "# z = -2667746.972596679\n",
    "\n",
    "\n",
    "# # ecef = pyproj.Proj(proj='geocent', ellps='WGS84', datum='WGS84')\n",
    "# # lla = pyproj.Proj(proj='latlong', ellps='WGS84', datum='WGS84')\n",
    "# # lon, lat, alt = pyproj.transform(ecef, lla, x, y, z, radians=True)\n",
    "\n",
    "# # print(lat, lon, alt)\n",
    "\n",
    "# lon, lat, alt = pyproj.transform(ecef, lla, x, y, z, radians=False)\n",
    "\n",
    "# print(lat, lon, alt)\n",
    "\n",
    "# lon, lat, alt = -24.887220848803036, 82.2128095673836, 0\n",
    "\n",
    "# x,y,z = pyproj.transform(lla,ecef,lat,lon,alt)\n",
    "# print(x,y,z)"
   ]
  },
  {
   "cell_type": "code",
   "execution_count": null,
   "metadata": {},
   "outputs": [],
   "source": [
    "# import pyproj\n",
    "\n",
    "# def convert_to_ecef(lat,lon,alt=0):\n",
    "#     return pyproj.transform(lla,ecef,lat,lon,alt)\n",
    "\n",
    "# def convert_to_lla(x,y,z):\n",
    "#     return pyproj.transform(ecef, lla, x, y, z, radians=False)"
   ]
  },
  {
   "cell_type": "code",
   "execution_count": null,
   "metadata": {},
   "outputs": [],
   "source": [
    "import matplotlib.pyplot as plt\n",
    "\n",
    "data = np.random.random(size=(16, 16))\n",
    "\n",
    "plt.imshow(data)\n"
   ]
  },
  {
   "cell_type": "code",
   "execution_count": null,
   "metadata": {},
   "outputs": [],
   "source": [
    "from PIL import Image, ImageDraw\n",
    "img = Image.new('RGB', (50, 50), color = (255, 255, 255))\n",
    "d = ImageDraw.Draw(img)\n",
    "d.text((20,20), \"A\", fill=(0,255,0))\n",
    "img.save('pil_text.png')\n",
    "\n",
    "# plt.imshow(d)"
   ]
  },
  {
   "cell_type": "code",
   "execution_count": null,
   "metadata": {},
   "outputs": [],
   "source": [
    "x=plt.imread('pil_text.png', format=None)\n",
    "plt.imshow(x)\n",
    "# print(x)\n",
    "# print(x.shape)"
   ]
  },
  {
   "cell_type": "code",
   "execution_count": null,
   "metadata": {},
   "outputs": [],
   "source": [
    "y=plt.imread('pil_text1.png', format=None)\n",
    "plt.imshow(y)"
   ]
  },
  {
   "cell_type": "code",
   "execution_count": null,
   "metadata": {},
   "outputs": [],
   "source": [
    "z= np.multiply(x,y)\n",
    "plt.imshow(z)"
   ]
  },
  {
   "cell_type": "code",
   "execution_count": null,
   "metadata": {},
   "outputs": [],
   "source": []
  }
 ],
 "metadata": {
  "kernelspec": {
   "display_name": "Python 3",
   "language": "python",
   "name": "python3"
  },
  "language_info": {
   "codemirror_mode": {
    "name": "ipython",
    "version": 3
   },
   "file_extension": ".py",
   "mimetype": "text/x-python",
   "name": "python",
   "nbconvert_exporter": "python",
   "pygments_lexer": "ipython3",
   "version": "3.7.3"
  }
 },
 "nbformat": 4,
 "nbformat_minor": 2
}
