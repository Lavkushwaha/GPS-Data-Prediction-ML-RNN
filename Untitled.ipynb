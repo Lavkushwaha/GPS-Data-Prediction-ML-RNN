{
 "cells": [
  {
   "cell_type": "code",
   "execution_count": 9,
   "metadata": {},
   "outputs": [],
   "source": [
    "# Machine Learning Model \n",
    "# LSTM\n",
    "# Train Data\n",
    "# x_train lat,lon,distance,speed,time diff\n",
    "# y_train pred_lat,pred_lon\n",
    "\n",
    "import pandas as pd\n",
    "import matplotlib.pyplot as plt\n",
    "\n",
    "\n"
   ]
  },
  {
   "cell_type": "code",
   "execution_count": 10,
   "metadata": {},
   "outputs": [],
   "source": [
    "df = pd.read_csv('DataSet.csv')"
   ]
  },
  {
   "cell_type": "code",
   "execution_count": 11,
   "metadata": {},
   "outputs": [],
   "source": [
    "train_x = df[['Longitude','Latitude','Time_diff','Haversine_Distance','Calculated_Speed']]\n",
    "train_y=df[['Pred_Lat','Pred_Lon']]"
   ]
  },
  {
   "cell_type": "code",
   "execution_count": 12,
   "metadata": {},
   "outputs": [
    {
     "name": "stdout",
     "output_type": "stream",
     "text": [
      "    Longitude   Latitude  Time_diff  Haversine_Distance  Calculated_Speed\n",
      "0 -105.434187  41.233283        1.0            0.000000          0.000000\n",
      "1 -105.434177  41.233209        3.0            8.270818          2.756939\n",
      "2 -105.434183  41.233247       17.0            4.255097          0.250300\n",
      "    Pred_Lat    Pred_Lon\n",
      "0  41.233209 -105.434177\n",
      "1  41.233247 -105.434183\n",
      "2  41.233218 -105.434231\n"
     ]
    }
   ],
   "source": [
    "\n",
    "print(train_x.head(3))\n",
    "\n",
    "\n",
    "print(train_y.head(3))"
   ]
  },
  {
   "cell_type": "code",
   "execution_count": 20,
   "metadata": {},
   "outputs": [],
   "source": [
    "import tensorflow as tf\n",
    "\n",
    "from tensorflow.python.keras.models import Sequential\n",
    "from tensorflow.python.keras.layers.recurrent import LSTM\n",
    "from tensorflow.python.keras.layers.core import Dense, Activation, Dropout\n",
    "\n",
    "from sklearn.preprocessing import MinMaxScaler\n",
    "from sklearn.metrics import mean_squared_error\n",
    "from sklearn.utils import shuffle\n",
    "\n"
   ]
  },
  {
   "cell_type": "code",
   "execution_count": null,
   "metadata": {},
   "outputs": [],
   "source": [
    "model = Sequential.model"
   ]
  },
  {
   "cell_type": "code",
   "execution_count": null,
   "metadata": {},
   "outputs": [],
   "source": []
  }
 ],
 "metadata": {
  "kernelspec": {
   "display_name": "Python 3",
   "language": "python",
   "name": "python3"
  },
  "language_info": {
   "codemirror_mode": {
    "name": "ipython",
    "version": 3
   },
   "file_extension": ".py",
   "mimetype": "text/x-python",
   "name": "python",
   "nbconvert_exporter": "python",
   "pygments_lexer": "ipython3",
   "version": "3.7.3"
  }
 },
 "nbformat": 4,
 "nbformat_minor": 2
}
