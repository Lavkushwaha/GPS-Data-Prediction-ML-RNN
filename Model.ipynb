{
 "cells": [
  {
   "cell_type": "code",
   "execution_count": 21,
   "metadata": {},
   "outputs": [],
   "source": [
    "# Machine Learning Model \n",
    "# LSTM\n",
    "# Train Data\n",
    "# x_train lat,lon,distance,speed,time diff\n",
    "# y_train pred_lat,pred_lon\n",
    "\n",
    "import pandas as pd\n",
    "import matplotlib.pyplot as plt\n",
    "\n",
    "\n"
   ]
  },
  {
   "cell_type": "code",
   "execution_count": 24,
   "metadata": {},
   "outputs": [],
   "source": [
    "df = pd.read_csv('Dataset.csv')"
   ]
  },
  {
   "cell_type": "code",
   "execution_count": 25,
   "metadata": {},
   "outputs": [],
   "source": [
    "train_x = df[['Longitude','Latitude','Time_diff','Haversine_Distance','Calculated_Speed']]\n",
    "train_y=df[['Pred_Lat','Pred_Lon']]"
   ]
  },
  {
   "cell_type": "code",
   "execution_count": 28,
   "metadata": {},
   "outputs": [
    {
     "name": "stdout",
     "output_type": "stream",
     "text": [
      "        Longitude   Latitude  Time_diff  Haversine_Distance  Calculated_Speed\n",
      "19825 -105.434017  41.233209        8.0            3.209280          0.401160\n",
      "19826 -105.434054  41.233212        5.0            3.111959          0.622392\n",
      "19827 -105.434079  41.233234       27.0            3.217884          0.119181\n",
      "        Pred_Lat    Pred_Lon\n",
      "19825  41.233212 -105.434054\n",
      "19826  41.233234 -105.434079\n",
      "19827  41.233234 -105.434079\n"
     ]
    }
   ],
   "source": [
    "\n",
    "print(train_x.tail(3))\n",
    "\n",
    "\n",
    "print(train_y.tail(3))"
   ]
  },
  {
   "cell_type": "code",
   "execution_count": 51,
   "metadata": {},
   "outputs": [
    {
     "data": {
      "text/plain": [
       "(19828, 5, 1)"
      ]
     },
     "execution_count": 51,
     "metadata": {},
     "output_type": "execute_result"
    }
   ],
   "source": [
    "import numpy as np\n",
    "# convert pandas dataframe to numpy array\n",
    "\n",
    "x_data = train_x.values\n",
    "x_data = np.array(x_data)\n",
    "x_data = x_data.reshape(19828,5,1)\n",
    "x_data.shape"
   ]
  },
  {
   "cell_type": "code",
   "execution_count": 64,
   "metadata": {},
   "outputs": [
    {
     "data": {
      "text/plain": [
       "(19828, 2)"
      ]
     },
     "execution_count": 64,
     "metadata": {},
     "output_type": "execute_result"
    }
   ],
   "source": [
    "y_data = train_y.values\n",
    "y_data.shape"
   ]
  },
  {
   "cell_type": "code",
   "execution_count": null,
   "metadata": {},
   "outputs": [],
   "source": []
  },
  {
   "cell_type": "code",
   "execution_count": 69,
   "metadata": {},
   "outputs": [],
   "source": [
    "import tensorflow as tf\n",
    "\n",
    "from tensorflow.python.keras.models import Sequential\n",
    "from tensorflow.python.keras.layers.recurrent import LSTM,RNN\n",
    "from tensorflow.python.keras.layers.core import Dense, Activation, Dropout\n",
    "\n",
    "from sklearn.preprocessing import MinMaxScaler\n",
    "from sklearn.metrics import mean_squared_error\n",
    "from sklearn.utils import shuffle\n",
    "from sklearn.model_selection import train_test_split\n",
    "\n",
    "\n"
   ]
  },
  {
   "cell_type": "code",
   "execution_count": 70,
   "metadata": {},
   "outputs": [],
   "source": [
    "x_train, x_test, y_train, y_test = train_test_split(x_data, y_data, test_size=0.33, random_state=42)\n",
    "\n"
   ]
  },
  {
   "cell_type": "code",
   "execution_count": 72,
   "metadata": {},
   "outputs": [
    {
     "name": "stdout",
     "output_type": "stream",
     "text": [
      "(13284, 5, 1)\n",
      "(13284, 2)\n",
      "(6544, 5, 1)\n",
      "(6544, 2)\n"
     ]
    }
   ],
   "source": [
    "print(x_train.shape)\n",
    "print(y_train.shape)\n",
    "print(x_test.shape)\n",
    "print(y_test.shape)\n"
   ]
  },
  {
   "cell_type": "code",
   "execution_count": 107,
   "metadata": {},
   "outputs": [
    {
     "name": "stdout",
     "output_type": "stream",
     "text": [
      "Model: \"sequential_22\"\n",
      "_________________________________________________________________\n",
      "Layer (type)                 Output Shape              Param #   \n",
      "=================================================================\n",
      "lstm_26 (LSTM)               (None, 5, 2)              32        \n",
      "_________________________________________________________________\n",
      "lstm_27 (LSTM)               (None, 2)                 40        \n",
      "=================================================================\n",
      "Total params: 72\n",
      "Trainable params: 72\n",
      "Non-trainable params: 0\n",
      "_________________________________________________________________\n"
     ]
    }
   ],
   "source": [
    "model = Sequential()\n",
    "model.add(LSTM((2), batch_input_shape=(None,5,1),return_sequences=True))\n",
    "# model.add(Dense(128, 1))\n",
    "model.add(LSTM((2),return_sequences=False))\n",
    "\n",
    "\n",
    "\n",
    "model.compile(loss='mean_absolute_error',optimizer='adam',metrics=['accuracy'])\n",
    "model.summary()\n",
    "          \n",
    "\n",
    "\n"
   ]
  },
  {
   "cell_type": "code",
   "execution_count": 104,
   "metadata": {},
   "outputs": [
    {
     "name": "stdout",
     "output_type": "stream",
     "text": [
      "Train on 13284 samples, validate on 6544 samples\n",
      "Epoch 1/50\n",
      "13284/13284 [==============================] - 10s 757us/sample - loss: 72.8118 - accuracy: 0.9903 - val_loss: 72.3118 - val_accuracy: 1.0000\n",
      "Epoch 2/50\n",
      "13284/13284 [==============================] - 5s 341us/sample - loss: 72.3077 - accuracy: 1.0000 - val_loss: 72.3069 - val_accuracy: 1.0000\n",
      "Epoch 3/50\n",
      "13284/13284 [==============================] - 5s 347us/sample - loss: 72.3070 - accuracy: 1.0000 - val_loss: 72.3065 - val_accuracy: 1.0000\n",
      "Epoch 4/50\n",
      "13284/13284 [==============================] - 5s 343us/sample - loss: 72.3067 - accuracy: 1.0000 - val_loss: 72.3062 - val_accuracy: 1.0000\n",
      "Epoch 5/50\n",
      "13284/13284 [==============================] - 5s 346us/sample - loss: 72.3064 - accuracy: 1.0000 - val_loss: 72.3060 - val_accuracy: 1.0000\n",
      "Epoch 6/50\n",
      "13284/13284 [==============================] - 5s 365us/sample - loss: 72.3063 - accuracy: 1.0000 - val_loss: 72.3059 - val_accuracy: 1.0000\n",
      "Epoch 7/50\n",
      "13284/13284 [==============================] - 5s 394us/sample - loss: 72.3061 - accuracy: 1.0000 - val_loss: 72.3058 - val_accuracy: 1.0000\n",
      "Epoch 8/50\n",
      "13284/13284 [==============================] - 5s 355us/sample - loss: 72.3061 - accuracy: 1.0000 - val_loss: 72.3057 - val_accuracy: 1.0000\n",
      "Epoch 9/50\n",
      "13284/13284 [==============================] - 5s 342us/sample - loss: 72.3060 - accuracy: 1.0000 - val_loss: 72.3056 - val_accuracy: 1.0000\n",
      "Epoch 10/50\n",
      "13284/13284 [==============================] - 4s 310us/sample - loss: 72.3059 - accuracy: 1.0000 - val_loss: 72.3056 - val_accuracy: 1.0000\n",
      "Epoch 11/50\n",
      "13284/13284 [==============================] - 4s 309us/sample - loss: 72.3059 - accuracy: 1.0000 - val_loss: 72.3055 - val_accuracy: 1.0000\n",
      "Epoch 12/50\n",
      "13284/13284 [==============================] - 4s 324us/sample - loss: 72.3058 - accuracy: 1.0000 - val_loss: 72.3055 - val_accuracy: 1.0000\n",
      "Epoch 13/50\n",
      "13284/13284 [==============================] - 5s 403us/sample - loss: 72.3058 - accuracy: 1.0000 - val_loss: 72.3054 - val_accuracy: 1.0000\n",
      "Epoch 14/50\n",
      "13284/13284 [==============================] - 5s 393us/sample - loss: 72.3057 - accuracy: 1.0000 - val_loss: 72.3054 - val_accuracy: 1.0000\n",
      "Epoch 15/50\n",
      "13284/13284 [==============================] - 4s 338us/sample - loss: 72.3057 - accuracy: 1.0000 - val_loss: 72.3054 - val_accuracy: 1.0000\n",
      "Epoch 16/50\n",
      "13284/13284 [==============================] - 4s 338us/sample - loss: 72.3057 - accuracy: 1.0000 - val_loss: 72.3054 - val_accuracy: 1.0000\n",
      "Epoch 17/50\n",
      "13284/13284 [==============================] - 5s 344us/sample - loss: 72.3057 - accuracy: 1.0000 - val_loss: 72.3053 - val_accuracy: 1.0000\n",
      "Epoch 18/50\n",
      "13284/13284 [==============================] - 10800s 813ms/sample - loss: 72.3057 - accuracy: 1.0000 - val_loss: 72.3053 - val_accuracy: 1.0000\n",
      "Epoch 19/50\n",
      "13284/13284 [==============================] - 5s 354us/sample - loss: 72.3057 - accuracy: 1.0000 - val_loss: 72.3053 - val_accuracy: 1.0000\n",
      "Epoch 20/50\n",
      "13284/13284 [==============================] - 5s 349us/sample - loss: 72.3056 - accuracy: 1.0000 - val_loss: 72.3053 - val_accuracy: 1.0000\n",
      "Epoch 21/50\n",
      "13284/13284 [==============================] - 5s 395us/sample - loss: 72.3056 - accuracy: 1.0000 - val_loss: 72.3053 - val_accuracy: 1.0000\n",
      "Epoch 22/50\n",
      "13284/13284 [==============================] - 5s 371us/sample - loss: 72.3056 - accuracy: 1.0000 - val_loss: 72.3053 - val_accuracy: 1.0000\n",
      "Epoch 23/50\n",
      "13284/13284 [==============================] - 6s 419us/sample - loss: 72.3056 - accuracy: 1.0000 - val_loss: 72.3053 - val_accuracy: 1.0000\n",
      "Epoch 24/50\n",
      "13284/13284 [==============================] - 5s 384us/sample - loss: 72.3056 - accuracy: 1.0000 - val_loss: 72.3053 - val_accuracy: 1.0000\n",
      "Epoch 25/50\n",
      "13284/13284 [==============================] - 5s 373us/sample - loss: 72.3056 - accuracy: 1.0000 - val_loss: 72.3053 - val_accuracy: 1.0000\n",
      "Epoch 26/50\n",
      "13284/13284 [==============================] - 5s 341us/sample - loss: 72.3056 - accuracy: 1.0000 - val_loss: 72.3053 - val_accuracy: 1.0000\n",
      "Epoch 27/50\n",
      "13284/13284 [==============================] - 4s 327us/sample - loss: 72.3056 - accuracy: 1.0000 - val_loss: 72.3053 - val_accuracy: 1.0000\n",
      "Epoch 28/50\n",
      "13284/13284 [==============================] - 42576s 3s/sample - loss: 72.3056 - accuracy: 1.0000 - val_loss: 72.3053 - val_accuracy: 1.0000\n",
      "Epoch 29/50\n",
      "13284/13284 [==============================] - 6s 433us/sample - loss: 72.3056 - accuracy: 1.0000 - val_loss: 72.3053 - val_accuracy: 1.0000\n",
      "Epoch 30/50\n",
      "13284/13284 [==============================] - 5s 363us/sample - loss: 72.3056 - accuracy: 1.0000 - val_loss: 72.3053 - val_accuracy: 1.0000\n",
      "Epoch 31/50\n",
      "13284/13284 [==============================] - 5s 375us/sample - loss: 72.3056 - accuracy: 1.0000 - val_loss: 72.3053 - val_accuracy: 1.0000\n",
      "Epoch 32/50\n",
      "13284/13284 [==============================] - 5s 371us/sample - loss: 72.3056 - accuracy: 1.0000 - val_loss: 72.3053 - val_accuracy: 1.0000\n",
      "Epoch 33/50\n",
      "13284/13284 [==============================] - 5s 404us/sample - loss: 72.3056 - accuracy: 1.0000 - val_loss: 72.3053 - val_accuracy: 1.0000\n",
      "Epoch 34/50\n",
      "13284/13284 [==============================] - 5s 373us/sample - loss: 72.3056 - accuracy: 1.0000 - val_loss: 72.3053 - val_accuracy: 1.0000\n",
      "Epoch 35/50\n",
      "13284/13284 [==============================] - 6s 442us/sample - loss: 72.3056 - accuracy: 1.0000 - val_loss: 72.3053 - val_accuracy: 1.0000\n",
      "Epoch 36/50\n",
      "13284/13284 [==============================] - 5s 375us/sample - loss: 72.3056 - accuracy: 1.0000 - val_loss: 72.3053 - val_accuracy: 1.0000\n",
      "Epoch 37/50\n",
      "13284/13284 [==============================] - 5s 404us/sample - loss: 72.3056 - accuracy: 1.0000 - val_loss: 72.3052 - val_accuracy: 1.0000\n",
      "Epoch 38/50\n",
      "13284/13284 [==============================] - 5s 413us/sample - loss: 72.3056 - accuracy: 1.0000 - val_loss: 72.3052 - val_accuracy: 1.0000\n",
      "Epoch 39/50\n",
      "13284/13284 [==============================] - 5s 359us/sample - loss: 72.3056 - accuracy: 1.0000 - val_loss: 72.3052 - val_accuracy: 1.0000\n",
      "Epoch 40/50\n",
      "13284/13284 [==============================] - 5s 350us/sample - loss: 72.3056 - accuracy: 1.0000 - val_loss: 72.3052 - val_accuracy: 1.0000\n",
      "Epoch 41/50\n",
      "13284/13284 [==============================] - 5s 346us/sample - loss: 72.3056 - accuracy: 1.0000 - val_loss: 72.3052 - val_accuracy: 1.0000\n",
      "Epoch 42/50\n",
      "13284/13284 [==============================] - 5s 359us/sample - loss: 72.3056 - accuracy: 1.0000 - val_loss: 72.3052 - val_accuracy: 1.0000\n",
      "Epoch 43/50\n",
      "13284/13284 [==============================] - 6s 469us/sample - loss: 72.3056 - accuracy: 1.0000 - val_loss: 72.3052 - val_accuracy: 1.0000\n",
      "Epoch 44/50\n",
      "13284/13284 [==============================] - 5s 386us/sample - loss: 72.3056 - accuracy: 1.0000 - val_loss: 72.3052 - val_accuracy: 1.0000\n",
      "Epoch 45/50\n",
      "13284/13284 [==============================] - 5s 365us/sample - loss: 72.3056 - accuracy: 1.0000 - val_loss: 72.3052 - val_accuracy: 1.0000\n",
      "Epoch 46/50\n",
      "13284/13284 [==============================] - 5s 360us/sample - loss: 72.3056 - accuracy: 1.0000 - val_loss: 72.3052 - val_accuracy: 1.0000\n",
      "Epoch 47/50\n",
      "13284/13284 [==============================] - 5s 373us/sample - loss: 72.3056 - accuracy: 1.0000 - val_loss: 72.3052 - val_accuracy: 1.0000\n",
      "Epoch 48/50\n",
      "13284/13284 [==============================] - 5s 353us/sample - loss: 72.3056 - accuracy: 1.0000 - val_loss: 72.3052 - val_accuracy: 1.0000\n",
      "Epoch 49/50\n",
      "13284/13284 [==============================] - 5s 367us/sample - loss: 72.3056 - accuracy: 1.0000 - val_loss: 72.3052 - val_accuracy: 1.0000\n",
      "Epoch 50/50\n",
      "13284/13284 [==============================] - 5s 363us/sample - loss: 72.3056 - accuracy: 1.0000 - val_loss: 72.3052 - val_accuracy: 1.0000\n"
     ]
    }
   ],
   "source": [
    "history = model.fit(x_train,y_train,epochs=50,validation_data=(x_test,y_test))"
   ]
  },
  {
   "cell_type": "code",
   "execution_count": 105,
   "metadata": {},
   "outputs": [
    {
     "data": {
      "text/plain": [
       "array([[ 0.99990904, -0.99990875],\n",
       "       [ 0.99990904, -0.99990875],\n",
       "       [ 0.99990904, -0.99990875],\n",
       "       ...,\n",
       "       [ 0.99990904, -0.99990886],\n",
       "       [ 0.9999089 , -0.99990875],\n",
       "       [ 0.99990904, -0.99990875]], dtype=float32)"
      ]
     },
     "execution_count": 105,
     "metadata": {},
     "output_type": "execute_result"
    }
   ],
   "source": [
    "result = model.predict(x_test)\n",
    "result"
   ]
  },
  {
   "cell_type": "code",
   "execution_count": 100,
   "metadata": {},
   "outputs": [],
   "source": [
    "# for i in range(len(result)):\n",
    "#     plt.scatter(result[0][i],result[1][i],c='r')\n",
    "#     plt.scatter(y_test[0][i],y_test[1][i],c='g')\n",
    "\n",
    "# plt.show()\n",
    "\n"
   ]
  },
  {
   "cell_type": "code",
   "execution_count": 108,
   "metadata": {},
   "outputs": [
    {
     "data": {
      "image/png": "[encoded data removed]",
      "text/plain": [
       "<Figure size 432x288 with 1 Axes>"
      ]
     },
     "metadata": {
      "needs_background": "light"
     },
     "output_type": "display_data"
    }
   ],
   "source": [
    "plt.plot(history.history['loss'])\n",
    "plt.show()"
   ]
  },
  {
   "cell_type": "code",
   "execution_count": null,
   "metadata": {},
   "outputs": [],
   "source": []
  },
  {
   "cell_type": "code",
   "execution_count": null,
   "metadata": {},
   "outputs": [],
   "source": []
  }
 ],
 "metadata": {
  "kernelspec": {
   "display_name": "Python 3",
   "language": "python",
   "name": "python3"
  },
  "language_info": {
   "codemirror_mode": {
    "name": "ipython",
    "version": 3
   },
   "file_extension": ".py",
   "mimetype": "text/x-python",
   "name": "python",
   "nbconvert_exporter": "python",
   "pygments_lexer": "ipython3",
   "version": "3.7.3"
  }
 },
 "nbformat": 4,
 "nbformat_minor": 2
}
